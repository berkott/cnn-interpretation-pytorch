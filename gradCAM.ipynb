{
 "cells": [
  {
   "cell_type": "markdown",
   "metadata": {},
   "source": [
    "# Basic CAM and Grad-CAM Implementation on MNIST\n",
    "Made to go along with the [Grad-CAM and Basic CNN Interpretability](https://berkan.xyz/posts/2021/12/gradCAM/) blog post."
   ]
  },
  {
   "cell_type": "code",
   "execution_count": 1,
   "metadata": {},
   "outputs": [],
   "source": [
    "import torch\n",
    "from torch import nn\n",
    "from torch.utils.data import DataLoader\n",
    "from torchvision import datasets\n",
    "from torchvision.transforms import ToTensor, Lambda, Compose\n",
    "\n",
    "import matplotlib.pyplot as plt\n",
    "import cv2\n",
    "import numpy as np\n",
    "import time"
   ]
  },
  {
   "cell_type": "code",
   "execution_count": 2,
   "metadata": {},
   "outputs": [],
   "source": [
    "training_data = datasets.MNIST(\n",
    "    root=\"data\",\n",
    "    train=True,\n",
    "    download=True,\n",
    "    transform=ToTensor(),\n",
    ")\n",
    "\n",
    "test_data = datasets.MNIST(\n",
    "    root=\"data\",\n",
    "    train=False,\n",
    "    download=True,\n",
    "    transform=ToTensor(),\n",
    ")"
   ]
  },
  {
   "cell_type": "code",
   "execution_count": 3,
   "metadata": {},
   "outputs": [
    {
     "name": "stdout",
     "output_type": "stream",
     "text": [
      "Shape of X [N, C, H, W]: torch.Size([32, 1, 28, 28])\n",
      "Shape of y: torch.Size([32]) torch.int64\n"
     ]
    }
   ],
   "source": [
    "batch_size = 32\n",
    "\n",
    "train_dataloader = DataLoader(training_data, batch_size=batch_size)\n",
    "test_dataloader = DataLoader(test_data, batch_size=batch_size)\n",
    "\n",
    "for X, y in test_dataloader:\n",
    "  print(f\"Shape of X [N, C, H, W]: {X.shape}\")\n",
    "  print(f\"Shape of y: {y.shape} {y.dtype}\")\n",
    "  break"
   ]
  },
  {
   "cell_type": "markdown",
   "metadata": {},
   "source": [
    "## CAM\n",
    "Note how the model has a very specific architecture, namely img → conv → max pooling → conv → max pooling → global average pooling → fully connected\n",
    "\n",
    "[Official CAM Implementation](https://github.com/zhoubolei/CAM)"
   ]
  },
  {
   "cell_type": "code",
   "execution_count": 4,
   "metadata": {},
   "outputs": [
    {
     "name": "stdout",
     "output_type": "stream",
     "text": [
      "CAM_CNN(\n",
      "  (conv1): Sequential(\n",
      "    (0): Conv2d(1, 16, kernel_size=(5, 5), stride=(1, 1), padding=(2, 2))\n",
      "    (1): ReLU()\n",
      "    (2): MaxPool2d(kernel_size=2, stride=2, padding=0, dilation=1, ceil_mode=False)\n",
      "  )\n",
      "  (conv2): Sequential(\n",
      "    (0): Conv2d(16, 32, kernel_size=(5, 5), stride=(1, 1), padding=(2, 2))\n",
      "    (1): ReLU()\n",
      "    (2): MaxPool2d(kernel_size=2, stride=2, padding=0, dilation=1, ceil_mode=False)\n",
      "  )\n",
      "  (gap): AvgPool2d(kernel_size=7, stride=7, padding=0)\n",
      "  (out): Linear(in_features=32, out_features=10, bias=True)\n",
      ")\n"
     ]
    }
   ],
   "source": [
    "device = \"cpu\"\n",
    "\n",
    "class CAM_CNN(nn.Module):\n",
    "  def __init__(self):\n",
    "    super(CAM_CNN, self).__init__()\n",
    "\n",
    "    self.conv1 = nn.Sequential(         \n",
    "      nn.Conv2d(\n",
    "        in_channels=1,              \n",
    "        out_channels=16,            \n",
    "        kernel_size=5,              \n",
    "        stride=1,                   \n",
    "        padding=2,                  \n",
    "      ),                              \n",
    "      nn.ReLU(),                      \n",
    "      nn.MaxPool2d(kernel_size=2),    \n",
    "    )\n",
    "\n",
    "    self.conv2 = nn.Sequential(         \n",
    "      nn.Conv2d(16, 32, 5, 1, 2),\n",
    "      nn.ReLU(),\n",
    "      nn.MaxPool2d(2),\n",
    "    )\n",
    "\n",
    "    self.gap = nn.AvgPool2d(7) # GAP here!\n",
    "\n",
    "    self.out = nn.Linear(32, 10)\n",
    "\n",
    "\n",
    "  def forward(self, x):\n",
    "    x = self.conv1(x)\n",
    "    x = self.conv2(x)\n",
    "    y = self.gap(x)\n",
    "\n",
    "    y = y.view(y.size(0), -1)\n",
    "\n",
    "    y = self.out(y)\n",
    "    return y, x\n",
    "\n",
    "\n",
    "cam_model = CAM_CNN().to(device)\n",
    "print(cam_model)"
   ]
  },
  {
   "cell_type": "code",
   "execution_count": 5,
   "metadata": {},
   "outputs": [],
   "source": [
    "cam_loss_fn = nn.CrossEntropyLoss() # Combines LogSoftmax and NLLLoss into one!\n",
    "\n",
    "cam_optimizer = torch.optim.Adam(cam_model.parameters(), lr=0.005)"
   ]
  },
  {
   "cell_type": "code",
   "execution_count": 6,
   "metadata": {},
   "outputs": [],
   "source": [
    "def cam_train(dataloader, model, loss_fn, optimizer):\n",
    "  size = len(dataloader.dataset)\n",
    "  model.train()\n",
    "  for batch, (X, y) in enumerate(dataloader):\n",
    "    X, y = X.to(device), y.to(device)\n",
    "\n",
    "    # Compute prediction error\n",
    "    pred, _ = model(X)\n",
    "    loss = loss_fn(pred, y)\n",
    "\n",
    "    # Backpropagation\n",
    "    optimizer.zero_grad()\n",
    "    loss.backward()\n",
    "    optimizer.step()\n",
    "\n",
    "    if batch % 100 == 0:\n",
    "      loss, current = loss.item(), batch * len(X)\n",
    "      print(f\"loss: {loss:>7f}  [{current:>5d}/{size:>5d}]\")"
   ]
  },
  {
   "cell_type": "code",
   "execution_count": 7,
   "metadata": {},
   "outputs": [],
   "source": [
    "def cam_test(dataloader, model, loss_fn):\n",
    "  size = len(dataloader.dataset)\n",
    "  num_batches = len(dataloader)\n",
    "  model.eval()\n",
    "  test_loss, correct = 0, 0\n",
    "\n",
    "  with torch.no_grad():\n",
    "    for X, y in dataloader:\n",
    "      X, y = X.to(device), y.to(device)\n",
    "      pred, _ = model(X)\n",
    "      test_loss += loss_fn(pred, y).item()\n",
    "      correct += (pred.argmax(1) == y).type(torch.float).sum().item()\n",
    "  \n",
    "  test_loss /= num_batches\n",
    "  correct /= size\n",
    "  print(f\"Test Error: \\n Accuracy: {(100*correct):>0.1f}%, Avg loss: {test_loss:>8f} \\n\")"
   ]
  },
  {
   "cell_type": "code",
   "execution_count": 8,
   "metadata": {},
   "outputs": [
    {
     "name": "stdout",
     "output_type": "stream",
     "text": [
      "Epoch 1\n",
      "-------------------------------\n",
      "loss: 2.312581  [    0/60000]\n",
      "loss: 1.576634  [ 6400/60000]\n",
      "loss: 0.891458  [12800/60000]\n",
      "loss: 0.561650  [19200/60000]\n",
      "loss: 0.503685  [25600/60000]\n",
      "loss: 0.424033  [32000/60000]\n",
      "loss: 0.437022  [38400/60000]\n",
      "loss: 0.352224  [44800/60000]\n",
      "loss: 0.528976  [51200/60000]\n",
      "loss: 0.259461  [57600/60000]\n",
      "Test Error: \n",
      " Accuracy: 92.4%, Avg loss: 0.255100 \n",
      "\n",
      "Epoch 2\n",
      "-------------------------------\n",
      "loss: 0.204092  [    0/60000]\n",
      "loss: 0.193301  [ 6400/60000]\n",
      "loss: 0.162606  [12800/60000]\n",
      "loss: 0.245484  [19200/60000]\n",
      "loss: 0.181319  [25600/60000]\n",
      "loss: 0.177745  [32000/60000]\n",
      "loss: 0.200338  [38400/60000]\n",
      "loss: 0.173789  [44800/60000]\n",
      "loss: 0.435940  [51200/60000]\n",
      "loss: 0.198901  [57600/60000]\n",
      "Test Error: \n",
      " Accuracy: 95.2%, Avg loss: 0.153676 \n",
      "\n",
      "Epoch 3\n",
      "-------------------------------\n",
      "loss: 0.139533  [    0/60000]\n",
      "loss: 0.164639  [ 6400/60000]\n",
      "loss: 0.090518  [12800/60000]\n",
      "loss: 0.201446  [19200/60000]\n",
      "loss: 0.101285  [25600/60000]\n",
      "loss: 0.107751  [32000/60000]\n",
      "loss: 0.167562  [38400/60000]\n",
      "loss: 0.129730  [44800/60000]\n",
      "loss: 0.407221  [51200/60000]\n",
      "loss: 0.151983  [57600/60000]\n",
      "Test Error: \n",
      " Accuracy: 96.4%, Avg loss: 0.120857 \n",
      "\n",
      "Epoch 4\n",
      "-------------------------------\n",
      "loss: 0.090659  [    0/60000]\n",
      "loss: 0.161396  [ 6400/60000]\n",
      "loss: 0.063634  [12800/60000]\n",
      "loss: 0.169516  [19200/60000]\n",
      "loss: 0.092234  [25600/60000]\n",
      "loss: 0.076852  [32000/60000]\n",
      "loss: 0.159114  [38400/60000]\n",
      "loss: 0.095597  [44800/60000]\n",
      "loss: 0.405379  [51200/60000]\n",
      "loss: 0.113757  [57600/60000]\n",
      "Test Error: \n",
      " Accuracy: 97.0%, Avg loss: 0.102171 \n",
      "\n",
      "Epoch 5\n",
      "-------------------------------\n",
      "loss: 0.061143  [    0/60000]\n",
      "loss: 0.157494  [ 6400/60000]\n",
      "loss: 0.045852  [12800/60000]\n",
      "loss: 0.138483  [19200/60000]\n",
      "loss: 0.084823  [25600/60000]\n",
      "loss: 0.053667  [32000/60000]\n",
      "loss: 0.143028  [38400/60000]\n",
      "loss: 0.078486  [44800/60000]\n",
      "loss: 0.381912  [51200/60000]\n",
      "loss: 0.097555  [57600/60000]\n",
      "Test Error: \n",
      " Accuracy: 97.2%, Avg loss: 0.094560 \n",
      "\n",
      "Done!\n"
     ]
    }
   ],
   "source": [
    "epochs = 5\n",
    "\n",
    "for t in range(epochs):\n",
    "    print(f\"Epoch {t+1}\\n-------------------------------\")\n",
    "    cam_train(train_dataloader, cam_model, cam_loss_fn, cam_optimizer)\n",
    "    cam_test(test_dataloader, cam_model, cam_loss_fn)\n",
    "\n",
    "print(\"Done!\")"
   ]
  },
  {
   "cell_type": "code",
   "execution_count": 30,
   "metadata": {},
   "outputs": [],
   "source": [
    "torch.save(cam_model.state_dict(), f\"camModel{time.time()}.pth\")"
   ]
  },
  {
   "cell_type": "code",
   "execution_count": 8,
   "metadata": {},
   "outputs": [
    {
     "data": {
      "text/plain": [
       "<All keys matched successfully>"
      ]
     },
     "execution_count": 8,
     "metadata": {},
     "output_type": "execute_result"
    }
   ],
   "source": [
    "cam_model = CAM_CNN()\n",
    "cam_model.load_state_dict(torch.load(\"camModel.pth\"))"
   ]
  },
  {
   "cell_type": "code",
   "execution_count": 13,
   "metadata": {},
   "outputs": [
    {
     "name": "stdout",
     "output_type": "stream",
     "text": [
      "===Example 0/1===\n",
      "Truth: 7, Pred: 7\n"
     ]
    },
    {
     "data": {
      "image/png": "[encoded data removed]",
      "text/plain": [
       "<Figure size 432x288 with 1 Axes>"
      ]
     },
     "metadata": {
      "needs_background": "light"
     },
     "output_type": "display_data"
    },
    {
     "data": {
      "image/png": "[encoded data removed]",
      "text/plain": [
       "<Figure size 1440x576 with 10 Axes>"
      ]
     },
     "metadata": {
      "needs_background": "light"
     },
     "output_type": "display_data"
    },
    {
     "data": {
      "image/png": "[encoded data removed]",
      "text/plain": [
       "<Figure size 432x288 with 1 Axes>"
      ]
     },
     "metadata": {
      "needs_background": "light"
     },
     "output_type": "display_data"
    },
    {
     "name": "stdout",
     "output_type": "stream",
     "text": [
      "===Example 1/1===\n",
      "Truth: 2, Pred: 2\n"
     ]
    },
    {
     "data": {
      "image/png": "[encoded data removed]",
      "text/plain": [
       "<Figure size 432x288 with 1 Axes>"
      ]
     },
     "metadata": {
      "needs_background": "light"
     },
     "output_type": "display_data"
    },
    {
     "data": {
      "image/png": "[encoded data removed]",
      "text/plain": [
       "<Figure size 1440x576 with 10 Axes>"
      ]
     },
     "metadata": {
      "needs_background": "light"
     },
     "output_type": "display_data"
    },
    {
     "data": {
      "image/png": "[encoded data removed]",
      "text/plain": [
       "<Figure size 432x288 with 1 Axes>"
      ]
     },
     "metadata": {
      "needs_background": "light"
     },
     "output_type": "display_data"
    }
   ],
   "source": [
    "def cam_visualization(model, data, data_index=0, save=False):\n",
    "  model.eval()\n",
    "\n",
    "  with torch.no_grad():\n",
    "    x, y = data[data_index][0], data[data_index][1]\n",
    "    \n",
    "    final_conv_output = 0\n",
    "    cam_weights = 0\n",
    "\n",
    "    pred, final_conv_output = model(x[None, :])\n",
    "\n",
    "    for param in model.parameters():\n",
    "      if param.size() == torch.Size([10, 32]):\n",
    "        cam_weights = param\n",
    "        break\n",
    "\n",
    "    mult_res = torch.mul(cam_weights[:, :, None, None], final_conv_output)\n",
    "\n",
    "    sum_res = torch.sum(mult_res, 1)\n",
    "\n",
    "    pred = nn.functional.softmax(pred[0], dim=-1)\n",
    "\n",
    "    # === Visualizations ===\n",
    "    print(f\"Truth: {y}, Pred: {pred.argmax(0)}\")\n",
    "\n",
    "    plt.axis(\"off\")\n",
    "    plt.title(f\"Digit: {y}\")\n",
    "    plt.imshow(x.squeeze(), cmap=\"gray\")\n",
    "    if save:\n",
    "      plt.savefig(f\"implemenPics/camDigit{data_index}\")\n",
    "      plt.close()\n",
    "    else:\n",
    "      plt.show()\n",
    "\n",
    "    figure = plt.figure(figsize=(20, 8))\n",
    "    cols, rows = 5, 2\n",
    "\n",
    "    cam_heatmaps = []\n",
    "\n",
    "    for i in range(0, cols * rows):\n",
    "      heatmap = sum_res[i]\n",
    "      heatmap = torch.sub(heatmap, torch.min(heatmap))\n",
    "      heatmap = torch.div(heatmap, torch.max(heatmap))\n",
    "\n",
    "      heatmap = cv2.resize(heatmap.numpy(), (28, 28))\n",
    "\n",
    "      heatmap = cv2.applyColorMap(np.uint8(255 * heatmap), cv2.COLORMAP_JET)\n",
    "      heatmap = cv2.cvtColor(heatmap, cv2.COLOR_BGR2RGB)\n",
    "\n",
    "      cam_heatmaps.append(heatmap)\n",
    "\n",
    "      figure.add_subplot(rows, cols, i + 1)\n",
    "      plt.title(f\"Num: {i}, Pred: {round(pred[i].item(), 4)}\")\n",
    "      plt.axis(\"off\")\n",
    "      plt.imshow(heatmap)\n",
    "    if save:\n",
    "      plt.savefig(f\"implemenPics/camHeatmaps{data_index}\")\n",
    "      plt.close()\n",
    "    else:\n",
    "      plt.show()\n",
    "\n",
    "    plt.figure()\n",
    "    plt.title(f\"Truth: {y}, Pred: {pred.argmax(0)}, Conf: {round(pred.amax(0).item(), 4)}\")\n",
    "    plt.axis(\"off\")\n",
    "    plt.imshow(x.squeeze(), cmap=\"gray\")\n",
    "    plt.imshow(cam_heatmaps[pred.argmax(0)], alpha=0.4)\n",
    "    if save:\n",
    "      plt.savefig(f\"implemenPics/camOverlay{data_index}\")\n",
    "      plt.close()\n",
    "    else:\n",
    "      plt.show()\n",
    "\n",
    "num_graphs = 2\n",
    "for i in range(num_graphs):\n",
    "  print(f\"===Example {i}/{num_graphs - 1}===\")\n",
    "  cam_visualization(cam_model, test_data, i, False)"
   ]
  },
  {
   "cell_type": "markdown",
   "metadata": {},
   "source": [
    "## Grad-CAM and \"Guided\" Grad-CAM\n",
    "Note how now the model doesn't need that global average pooling layer.\n",
    "\n",
    "*__Warning 1:__* This is not the same implementation as found in the paper. In the paper they said that the $\\alpha$ term is calculated with taking the graident of $y^c$ __before the softmax__ w.r.t each value in the output of the final conv layer. I found that using $y^c$ __after the softmax__ worked better. I believe this is because when calculating the gradient backwards I am setting the output to 0 for all classes and 1 for the target class. However, without the softmax, the outputs of the model are very far away from 0 and 1 for the other and target classes. I think (I am not sure) that this results in the final Grad-CAM output having most values that are 0 or less as the typical output for the target class is much higher than 1 and for the other classes is much less than 0 so the gradients are negative. Then when applying the ReLU to the Grad-CAM some images were just totally 0. But with the softmax applied the final outputs look much better. Perhaps some sort of normalization within the network could help.\n",
    "\n",
    "*__Warning 2:__* I'm not actually implementing guided backprop/guided Grad-CAM here. I am just computing the gradients of the inputs w.r.t. the output predictions, I am not applying a ReLU to the gradients as they are propagating backwards which is what guided backprop does. I found that for this simple MNIST example it is sufficient not to use strict guided backprop.\n",
    "\n",
    "If you want to see other implementations that helped me look here: \n",
    "- [Official Grad-CAM Implementation](https://github.com/ramprs/grad-cam)\n",
    "- [Good implementation of various CNN visualization techniques in PyTorch](https://github.com/utkuozbulak/pytorch-cnn-visualizations)\n",
    "- [Grad-CAM MNIST Keras](https://github.com/gorogoroyasu/mnist-Grad-CAM)"
   ]
  },
  {
   "cell_type": "code",
   "execution_count": 14,
   "metadata": {},
   "outputs": [
    {
     "name": "stdout",
     "output_type": "stream",
     "text": [
      "Grad_CAM_CNN(\n",
      "  (conv1): Sequential(\n",
      "    (0): Conv2d(1, 16, kernel_size=(5, 5), stride=(1, 1), padding=(2, 2))\n",
      "    (1): ReLU()\n",
      "    (2): MaxPool2d(kernel_size=2, stride=2, padding=0, dilation=1, ceil_mode=False)\n",
      "  )\n",
      "  (conv2): Sequential(\n",
      "    (0): Conv2d(16, 32, kernel_size=(5, 5), stride=(1, 1), padding=(2, 2))\n",
      "    (1): ReLU()\n",
      "    (2): MaxPool2d(kernel_size=2, stride=2, padding=0, dilation=1, ceil_mode=False)\n",
      "  )\n",
      "  (out): Linear(in_features=1568, out_features=10, bias=True)\n",
      ")\n"
     ]
    }
   ],
   "source": [
    "device = \"cpu\"\n",
    "\n",
    "class Grad_CAM_CNN(nn.Module):\n",
    "  def __init__(self):\n",
    "    super(Grad_CAM_CNN, self).__init__()\n",
    "\n",
    "    self.conv1 = nn.Sequential(         \n",
    "      nn.Conv2d(\n",
    "        in_channels=1,\n",
    "        out_channels=16,\n",
    "        kernel_size=5,\n",
    "        stride=1,\n",
    "        padding=2,\n",
    "      ),\n",
    "      nn.ReLU(),\n",
    "      nn.MaxPool2d(kernel_size=2),\n",
    "    )\n",
    "\n",
    "    self.conv2 = nn.Sequential(\n",
    "      nn.Conv2d(16, 32, 5, 1, 2),\n",
    "      nn.ReLU(),\n",
    "      nn.MaxPool2d(2),\n",
    "    )\n",
    "\n",
    "    # fully connected layer, output 10 classes\n",
    "    self.out = nn.Linear(32 * 7 * 7, 10)\n",
    "\n",
    "    self.input_gradients = None\n",
    "\n",
    "  def input_gradients_hook(self, grad):\n",
    "    self.input_gradients = grad\n",
    "  \n",
    "  def get_input_gradients(self):\n",
    "    return self.input_gradients\n",
    "\n",
    "  def forward(self, x):\n",
    "    x.requires_grad_()\n",
    "    x.retain_grad()\n",
    "\n",
    "    x.register_hook(self.input_gradients_hook)\n",
    "\n",
    "    x = self.conv1(x)\n",
    "    x = self.conv2(x)\n",
    "    \n",
    "    # flatten the output of conv2 to (batch_size, 32 * 7 * 7)\n",
    "    y = x.view(x.size(0), -1)\n",
    "    y = self.out(y)\n",
    "    \n",
    "    return nn.functional.log_softmax(y, dim=1), x\n",
    "\n",
    "grad_cam_model = Grad_CAM_CNN().to(device)\n",
    "\n",
    "print(grad_cam_model)"
   ]
  },
  {
   "cell_type": "code",
   "execution_count": 15,
   "metadata": {},
   "outputs": [],
   "source": [
    "grad_cam_loss_fn = nn.NLLLoss()\n",
    "\n",
    "grad_cam_optimizer = torch.optim.Adam(grad_cam_model.parameters(), lr=0.004)"
   ]
  },
  {
   "cell_type": "code",
   "execution_count": 16,
   "metadata": {},
   "outputs": [],
   "source": [
    "def grad_cam_train(dataloader, model, loss_fn, optimizer):\n",
    "  size = len(dataloader.dataset)\n",
    "  model.train()\n",
    "  for batch, (X, y) in enumerate(dataloader):\n",
    "    X, y = X.to(device), y.to(device)\n",
    "\n",
    "    # Compute prediction error\n",
    "    pred, _ = model(X)\n",
    "    loss = loss_fn(pred, y)\n",
    "\n",
    "    # Backpropagation\n",
    "    optimizer.zero_grad()\n",
    "    loss.backward()\n",
    "    optimizer.step()\n",
    "\n",
    "    if batch % 100 == 0:\n",
    "      loss, current = loss.item(), batch * len(X)\n",
    "      print(f\"loss: {loss:>7f}  [{current:>5d}/{size:>5d}]\")"
   ]
  },
  {
   "cell_type": "code",
   "execution_count": 17,
   "metadata": {},
   "outputs": [],
   "source": [
    "def grad_cam_test(dataloader, model, loss_fn):\n",
    "  size = len(dataloader.dataset)\n",
    "  num_batches = len(dataloader)\n",
    "  model.eval()\n",
    "  test_loss, correct = 0, 0\n",
    "\n",
    "  with torch.no_grad():\n",
    "    for X, y in dataloader:\n",
    "      X, y = X.to(device), y.to(device)\n",
    "      pred, _ = model(X)\n",
    "      test_loss += loss_fn(pred, y).item()\n",
    "      correct += (pred.argmax(1) == y).type(torch.float).sum().item()\n",
    "  \n",
    "  test_loss /= num_batches\n",
    "  correct /= size\n",
    "  print(f\"Test Error: \\n Accuracy: {(100*correct):>0.1f}%, Avg loss: {test_loss:>8f} \\n\")"
   ]
  },
  {
   "cell_type": "code",
   "execution_count": 20,
   "metadata": {},
   "outputs": [
    {
     "name": "stdout",
     "output_type": "stream",
     "text": [
      "Epoch 1\n",
      "-------------------------------\n",
      "loss: 2.308207  [    0/60000]\n",
      "loss: 0.246816  [ 3200/60000]\n",
      "loss: 0.038624  [ 6400/60000]\n",
      "loss: 0.081101  [ 9600/60000]\n",
      "loss: 0.034567  [12800/60000]\n",
      "loss: 0.019158  [16000/60000]\n",
      "loss: 0.010167  [19200/60000]\n",
      "loss: 0.046144  [22400/60000]\n",
      "loss: 0.158586  [25600/60000]\n",
      "loss: 0.056879  [28800/60000]\n",
      "loss: 0.107215  [32000/60000]\n",
      "loss: 0.077080  [35200/60000]\n",
      "loss: 0.133431  [38400/60000]\n",
      "loss: 0.113873  [41600/60000]\n",
      "loss: 0.085254  [44800/60000]\n",
      "loss: 0.220727  [48000/60000]\n",
      "loss: 0.104255  [51200/60000]\n",
      "loss: 0.003356  [54400/60000]\n",
      "loss: 0.033181  [57600/60000]\n",
      "Test Error: \n",
      " Accuracy: 97.6%, Avg loss: 0.072576 \n",
      "\n",
      "Saved\n",
      "Epoch 2\n",
      "-------------------------------\n",
      "loss: 0.022509  [    0/60000]\n",
      "loss: 0.038559  [ 3200/60000]\n",
      "loss: 0.059955  [ 6400/60000]\n",
      "loss: 0.003402  [ 9600/60000]\n",
      "loss: 0.046242  [12800/60000]\n",
      "loss: 0.009224  [16000/60000]\n",
      "loss: 0.019277  [19200/60000]\n",
      "loss: 0.002573  [22400/60000]\n",
      "loss: 0.029018  [25600/60000]\n",
      "loss: 0.011813  [28800/60000]\n",
      "loss: 0.045020  [32000/60000]\n",
      "loss: 0.036313  [35200/60000]\n",
      "loss: 0.083934  [38400/60000]\n",
      "loss: 0.024198  [41600/60000]\n",
      "loss: 0.011138  [44800/60000]\n",
      "loss: 0.132574  [48000/60000]\n",
      "loss: 0.055790  [51200/60000]\n",
      "loss: 0.000856  [54400/60000]\n",
      "loss: 0.013071  [57600/60000]\n",
      "Test Error: \n",
      " Accuracy: 98.1%, Avg loss: 0.061427 \n",
      "\n",
      "Saved\n",
      "Epoch 3\n",
      "-------------------------------\n",
      "loss: 0.005055  [    0/60000]\n",
      "loss: 0.049169  [ 3200/60000]\n",
      "loss: 0.030326  [ 6400/60000]\n",
      "loss: 0.020034  [ 9600/60000]\n",
      "loss: 0.005046  [12800/60000]\n",
      "loss: 0.015865  [16000/60000]\n",
      "loss: 0.005882  [19200/60000]\n",
      "loss: 0.002051  [22400/60000]\n",
      "loss: 0.017430  [25600/60000]\n",
      "loss: 0.001166  [28800/60000]\n",
      "loss: 0.070483  [32000/60000]\n",
      "loss: 0.017725  [35200/60000]\n",
      "loss: 0.060743  [38400/60000]\n",
      "loss: 0.016723  [41600/60000]\n",
      "loss: 0.010436  [44800/60000]\n",
      "loss: 0.016118  [48000/60000]\n",
      "loss: 0.247998  [51200/60000]\n",
      "loss: 0.000116  [54400/60000]\n",
      "loss: 0.011263  [57600/60000]\n",
      "Test Error: \n",
      " Accuracy: 98.6%, Avg loss: 0.045577 \n",
      "\n",
      "Saved\n",
      "Epoch 4\n",
      "-------------------------------\n",
      "loss: 0.003457  [    0/60000]\n",
      "loss: 0.013026  [ 3200/60000]\n",
      "loss: 0.044924  [ 6400/60000]\n",
      "loss: 0.002320  [ 9600/60000]\n",
      "loss: 0.138816  [12800/60000]\n",
      "loss: 0.002998  [16000/60000]\n",
      "loss: 0.010206  [19200/60000]\n",
      "loss: 0.000068  [22400/60000]\n",
      "loss: 0.003300  [25600/60000]\n",
      "loss: 0.002107  [28800/60000]\n",
      "loss: 0.017173  [32000/60000]\n",
      "loss: 0.000896  [35200/60000]\n",
      "loss: 0.101789  [38400/60000]\n",
      "loss: 0.010974  [41600/60000]\n",
      "loss: 0.005916  [44800/60000]\n",
      "loss: 0.005666  [48000/60000]\n",
      "loss: 0.182283  [51200/60000]\n",
      "loss: 0.000021  [54400/60000]\n",
      "loss: 0.001653  [57600/60000]\n",
      "Test Error: \n",
      " Accuracy: 98.7%, Avg loss: 0.045238 \n",
      "\n",
      "Saved\n",
      "Epoch 5\n",
      "-------------------------------\n",
      "loss: 0.103761  [    0/60000]\n",
      "loss: 0.003429  [ 3200/60000]\n",
      "loss: 0.045304  [ 6400/60000]\n",
      "loss: 0.040378  [ 9600/60000]\n",
      "loss: 0.019964  [12800/60000]\n",
      "loss: 0.003053  [16000/60000]\n"
     ]
    }
   ],
   "source": [
    "epochs = 5\n",
    "\n",
    "for t in range(epochs):\n",
    "    print(f\"Epoch {t+1}\\n-------------------------------\")\n",
    "    grad_cam_train(train_dataloader, grad_cam_model, grad_cam_loss_fn, grad_cam_optimizer)\n",
    "    grad_cam_test(test_dataloader, grad_cam_model, grad_cam_loss_fn)\n",
    "\n",
    "    torch.save(grad_cam_model.state_dict(), f\"gradCAMModel{time.time()}.pth\")\n",
    "    print(\"Saved\")\n",
    "\n",
    "print(\"Done!\")"
   ]
  },
  {
   "cell_type": "code",
   "execution_count": null,
   "metadata": {},
   "outputs": [],
   "source": [
    "torch.save(grad_cam_model.state_dict(), f\"gradCAMModel{time.time()}.pth\")"
   ]
  },
  {
   "cell_type": "code",
   "execution_count": 18,
   "metadata": {},
   "outputs": [
    {
     "data": {
      "text/plain": [
       "<All keys matched successfully>"
      ]
     },
     "execution_count": 18,
     "metadata": {},
     "output_type": "execute_result"
    }
   ],
   "source": [
    "grad_cam_model = Grad_CAM_CNN()\n",
    "grad_cam_model.load_state_dict(torch.load(\"gradCAMModel.pth\"))"
   ]
  },
  {
   "cell_type": "code",
   "execution_count": 33,
   "metadata": {},
   "outputs": [
    {
     "name": "stdout",
     "output_type": "stream",
     "text": [
      "===Example 0/1===\n",
      "Truth: 7, Pred: 7\n"
     ]
    },
    {
     "data": {
      "image/png": "[encoded data removed]",
      "text/plain": [
       "<Figure size 432x288 with 1 Axes>"
      ]
     },
     "metadata": {
      "needs_background": "light"
     },
     "output_type": "display_data"
    },
    {
     "data": {
      "image/png": "[encoded data removed]",
      "text/plain": [
       "<Figure size 1440x576 with 10 Axes>"
      ]
     },
     "metadata": {
      "needs_background": "light"
     },
     "output_type": "display_data"
    },
    {
     "data": {
      "image/png": "[encoded data removed]",
      "text/plain": [
       "<Figure size 432x288 with 1 Axes>"
      ]
     },
     "metadata": {
      "needs_background": "light"
     },
     "output_type": "display_data"
    },
    {
     "data": {
      "image/png": "[encoded data removed]",
      "text/plain": [
       "<Figure size 432x288 with 1 Axes>"
      ]
     },
     "metadata": {
      "needs_background": "light"
     },
     "output_type": "display_data"
    },
    {
     "data": {
      "image/png": "[encoded data removed]",
      "text/plain": [
       "<Figure size 432x288 with 1 Axes>"
      ]
     },
     "metadata": {
      "needs_background": "light"
     },
     "output_type": "display_data"
    },
    {
     "name": "stdout",
     "output_type": "stream",
     "text": [
      "===Example 1/1===\n",
      "Truth: 2, Pred: 2\n"
     ]
    },
    {
     "data": {
      "image/png": "[encoded data removed]",
      "text/plain": [
       "<Figure size 432x288 with 1 Axes>"
      ]
     },
     "metadata": {
      "needs_background": "light"
     },
     "output_type": "display_data"
    },
    {
     "data": {
      "image/png": "[encoded data removed]",
      "text/plain": [
       "<Figure size 1440x576 with 10 Axes>"
      ]
     },
     "metadata": {
      "needs_background": "light"
     },
     "output_type": "display_data"
    },
    {
     "data": {
      "image/png": "[encoded data removed]",
      "text/plain": [
       "<Figure size 432x288 with 1 Axes>"
      ]
     },
     "metadata": {
      "needs_background": "light"
     },
     "output_type": "display_data"
    },
    {
     "data": {
      "image/png": "[encoded data removed]",
      "text/plain": [
       "<Figure size 432x288 with 1 Axes>"
      ]
     },
     "metadata": {
      "needs_background": "light"
     },
     "output_type": "display_data"
    },
    {
     "data": {
      "image/png": "[encoded data removed]",
      "text/plain": [
       "<Figure size 432x288 with 1 Axes>"
      ]
     },
     "metadata": {
      "needs_background": "light"
     },
     "output_type": "display_data"
    }
   ],
   "source": [
    "def grad_cam_visualization(model, data, data_index=0, save=False):\n",
    "  model.eval()\n",
    "\n",
    "  x, y = data[data_index][0], data[data_index][1]\n",
    "\n",
    "  class_specific_alphas = torch.tensor((), dtype=torch.float64)\n",
    "  class_specific_alphas = class_specific_alphas.new_zeros((10, 32))\n",
    "\n",
    "  for c in range(10):\n",
    "    model.zero_grad()\n",
    "    pred, final_conv_output = model(x[None, :])\n",
    "\n",
    "    final_conv_output.requires_grad_()\n",
    "    final_conv_output.retain_grad()\n",
    "\n",
    "    one_hot_output = torch.FloatTensor(1, pred[0].size()[-1]).zero_()\n",
    "    one_hot_output[0][c] = 1\n",
    "\n",
    "    pred.backward(gradient=one_hot_output, retain_graph=True)\n",
    "\n",
    "    class_specific_alphas[c] = torch.sum(final_conv_output.grad.squeeze(), (1, 2))\n",
    "  \n",
    "  class_specific_alphas = torch.div(class_specific_alphas, 7 * 7)\n",
    "\n",
    "  pred, final_conv_output = model(x[None, :])\n",
    "\n",
    "  input_gradients = model.get_input_gradients()\n",
    "  # input_gradients = nn.functional.relu(input_gradients)\n",
    "\n",
    "  mult_res = torch.mul(class_specific_alphas[:, :, None, None], final_conv_output)\n",
    "  sum_res = nn.functional.relu(torch.sum(mult_res, 1))\n",
    "\n",
    "  pred = nn.functional.softmax(pred[0], dim=-1)\n",
    "\n",
    "  print(f\"Truth: {y}, Pred: {pred.argmax(0)}\")\n",
    "  \n",
    "  # === Visualizations ===\n",
    "\n",
    "  # Initial Digit\n",
    "  plt.axis(\"off\")\n",
    "  plt.title(f\"Digit: {y}\")\n",
    "  plt.imshow(x.squeeze(), cmap=\"gray\")\n",
    "  \n",
    "  if save:\n",
    "    plt.savefig(f\"implemenPics/gradCAMDigit{data_index}\")\n",
    "    plt.close()\n",
    "  else:\n",
    "    plt.show()\n",
    "\n",
    "  # Class-Specific Grad-CAM\n",
    "  figure = plt.figure(figsize=(20, 8))\n",
    "  cols, rows = 5, 2\n",
    "\n",
    "  cam_heatmaps = []\n",
    "\n",
    "  for i in range(0, cols * rows):\n",
    "    heatmap = sum_res[i]\n",
    "    heatmap = torch.sub(heatmap, torch.min(heatmap))\n",
    "    heatmap = torch.div(heatmap, torch.max(heatmap))\n",
    "\n",
    "    heatmap = cv2.resize(heatmap.detach().numpy(), (28, 28))\n",
    "\n",
    "    heatmap = cv2.applyColorMap(np.uint8(255 * heatmap), cv2.COLORMAP_JET)\n",
    "    heatmap = cv2.cvtColor(heatmap, cv2.COLOR_BGR2RGB)\n",
    "\n",
    "    cam_heatmaps.append(heatmap)\n",
    "\n",
    "    figure.add_subplot(rows, cols, i + 1)\n",
    "    plt.title(f\"Num: {i}, Pred: {round(pred[i].item(), 4)}\")\n",
    "    plt.axis(\"off\")\n",
    "    plt.imshow(heatmap)\n",
    "  if save:\n",
    "    plt.savefig(f\"implemenPics/gradCAMHeatmaps{data_index}\")\n",
    "    plt.close()\n",
    "  else:\n",
    "    plt.show()\n",
    "\n",
    "  # Grad-CAM Heatmap Overlaid\n",
    "  plt.figure()\n",
    "  plt.title(f\"Truth: {y}, Pred: {pred.argmax(0)}, Conf: {round(pred.amax(0).item(), 4)}\")\n",
    "  plt.axis(\"off\")\n",
    "  plt.imshow(x.squeeze(), cmap=\"gray\")\n",
    "  plt.imshow(cam_heatmaps[pred.argmax(0)], alpha=0.4)\n",
    "  if save:\n",
    "    plt.savefig(f\"implemenPics/gradCAMOverlay{data_index}\")\n",
    "    plt.close()\n",
    "  else:\n",
    "    plt.show()\n",
    "\n",
    "  # Input Gradient\n",
    "  plt.axis(\"off\")\n",
    "  plt.title(f\"Input Gradient: {y}\")\n",
    "\n",
    "  heatmap = sum_res[pred.argmax(0)]\n",
    "  heatmap = torch.sub(heatmap, torch.min(heatmap))\n",
    "  heatmap = torch.div(heatmap, torch.max(heatmap))\n",
    "\n",
    "  heatmap = cv2.resize(heatmap.detach().numpy(), (28, 28))\n",
    "\n",
    "  plt.imshow(input_gradients.squeeze(), cmap=\"gray\")\n",
    "  \n",
    "  if save:\n",
    "    plt.savefig(f\"implemenPics/gradCAMGradient{data_index}\")\n",
    "    plt.close()\n",
    "  else:\n",
    "    plt.show()\n",
    "\n",
    "  # \"Guided\" Grad-CAM \n",
    "  plt.axis(\"off\")\n",
    "  plt.title(f\"'Guided' Grad-CAM: {y}\")\n",
    "\n",
    "  heatmap = sum_res[pred.argmax(0)]\n",
    "  heatmap = torch.sub(heatmap, torch.min(heatmap))\n",
    "  heatmap = torch.div(heatmap, torch.max(heatmap))\n",
    "\n",
    "  heatmap = cv2.resize(heatmap.detach().numpy(), (28, 28))\n",
    "\n",
    "  plt.imshow(np.multiply(heatmap, input_gradients.squeeze()), cmap=\"gray\")\n",
    "  \n",
    "  if save:\n",
    "    plt.savefig(f\"implemenPics/gradCAMGuided{data_index}\")\n",
    "    plt.close()\n",
    "  else:\n",
    "    plt.show()\n",
    "\n",
    "num_graphs = 2\n",
    "for i in range(num_graphs):\n",
    "  print(f\"===Example {i}/{num_graphs - 1}===\")\n",
    "  grad_cam_visualization(grad_cam_model, test_data, i, False)"
   ]
  }
 ],
 "metadata": {
  "interpreter": {
   "hash": "8f6f1c9237a73d014ef6869628adf560dda6003e6cef2a667f3277470f6c79f1"
  },
  "kernelspec": {
   "display_name": "Python 3",
   "language": "python",
   "name": "python3"
  },
  "language_info": {
   "codemirror_mode": {
    "name": "ipython",
    "version": 3
   },
   "file_extension": ".py",
   "mimetype": "text/x-python",
   "name": "python",
   "nbconvert_exporter": "python",
   "pygments_lexer": "ipython3",
   "version": "3.8.12"
  }
 },
 "nbformat": 4,
 "nbformat_minor": 2
}
